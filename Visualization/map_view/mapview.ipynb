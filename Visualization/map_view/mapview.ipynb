{
 "cells": [
  {
   "cell_type": "code",
   "execution_count": 1,
   "metadata": {},
   "outputs": [
    {
     "data": {
      "application/vnd.jupyter.widget-view+json": {
       "model_id": "4fb0a210cff6452ea753c9daa742fc61",
       "version_major": 2,
       "version_minor": 0
      },
      "text/plain": [
       "Map(basemap={'url': 'https://{s}.tile.openstreetmap.org/{z}/{x}/{y}.png', 'max_zoom': 19, 'attribution': 'Map …"
      ]
     },
     "metadata": {},
     "output_type": "display_data"
    }
   ],
   "source": [
    "import time\n",
    "from cassandra.cluster import Cluster\n",
    "from ipyleaflet import Map, Marker\n",
    "\n",
    "center = (45.704181,24.0047547)\n",
    "zoom = 7\n",
    "m = Map(center=center, zoom=zoom)\n",
    "m"
   ]
  },
  {
   "cell_type": "code",
   "execution_count": 2,
   "metadata": {},
   "outputs": [
    {
     "name": "stdout",
     "output_type": "stream",
     "text": [
      "Loading rows\n",
      "Row(part_id='6', latitude=43.805481967941276, longitude=23.176930573771017, timestamp=1578832833, type='test')\n",
      "Row(part_id='16', latitude=43.589716991037136, longitude=22.165940568657692, timestamp=1578832863, type='test')\n",
      "Row(part_id='32', latitude=46.979736173364074, longitude=22.046467245554307, timestamp=1578832911, type='test')\n",
      "Row(part_id='40', latitude=43.190719789621134, longitude=25.504807898453556, timestamp=1578832935, type='test')\n",
      "Row(part_id='26', latitude=43.13969955389615, longitude=24.052360797996677, timestamp=1578832893, type='test')\n",
      "Row(part_id='39', latitude=43.38197561301241, longitude=23.28589113852441, timestamp=1578832932, type='test')\n",
      "Row(part_id='42', latitude=43.34896874199067, longitude=22.350297566297986, timestamp=1578832941, type='test')\n",
      "Row(part_id='19', latitude=44.31855210146629, longitude=25.57627776644189, timestamp=1578832872, type='test')\n",
      "Row(part_id='13', latitude=46.856286533469856, longitude=23.434483804941845, timestamp=1578832854, type='test')\n",
      "Row(part_id='34', latitude=46.916395481378764, longitude=24.49201022045338, timestamp=1578832917, type='test')\n",
      "Row(part_id='21', latitude=45.803245828880634, longitude=23.365942839463088, timestamp=1578832878, type='test')\n",
      "Row(part_id='7', latitude=44.94403183982792, longitude=23.048457590557568, timestamp=1578832836, type='test')\n",
      "Row(part_id='17', latitude=44.872000192546686, longitude=24.4675663627632, timestamp=1578832866, type='test')\n",
      "Row(part_id='9', latitude=43.27757850928158, longitude=22.716872029776273, timestamp=1578832842, type='test')\n",
      "Row(part_id='15', latitude=43.73444433394219, longitude=25.550760349769632, timestamp=1578832860, type='test')\n",
      "Row(part_id='10', latitude=43.56293932154464, longitude=22.79975038129791, timestamp=1578832845, type='test')\n",
      "Row(part_id='4', latitude=45.18119281862228, longitude=24.259506398288842, timestamp=1578832827, type='test')\n",
      "Row(part_id='3', latitude=46.529104, longitude=23.8227234, timestamp=1578682277, type='test')\n",
      "Row(part_id='30', latitude=44.37248227435387, longitude=22.00281664620467, timestamp=1578832905, type='test')\n",
      "Row(part_id='5', latitude=46.36412458207763, longitude=23.70987655859334, timestamp=1578832830, type='test')\n",
      "Row(part_id='36', latitude=45.22272980188161, longitude=25.730896511253874, timestamp=1578832923, type='test')\n",
      "Row(part_id='25', latitude=45.17623753623719, longitude=23.989869282702855, timestamp=1578832890, type='test')\n",
      "Row(part_id='35', latitude=44.17124456402413, longitude=24.917664283383367, timestamp=1578832920, type='test')\n",
      "Row(part_id='18', latitude=44.25005376132101, longitude=22.587474383781743, timestamp=1578832869, type='test')\n",
      "Row(part_id='28', latitude=43.84776330866056, longitude=24.53936788433411, timestamp=1578832899, type='test')\n",
      "Row(part_id='14', latitude=46.476615207432445, longitude=25.33419597866869, timestamp=1578832857, type='test')\n",
      "Row(part_id='8', latitude=45.632484754239286, longitude=23.4275862426907, timestamp=1578832839, type='test')\n",
      "Row(part_id='31', latitude=43.74527926708579, longitude=22.91044055719956, timestamp=1578832908, type='test')\n",
      "Row(part_id='20', latitude=44.617319232417195, longitude=24.840496460196253, timestamp=1578832875, type='test')\n",
      "Row(part_id='2', latitude=46.7636696, longitude=23.6134136, timestamp=1578682275, type='test')\n",
      "Row(part_id='22', latitude=46.60442991918021, longitude=25.4729757894816, timestamp=1578832881, type='test')\n",
      "Row(part_id='12', latitude=44.22453106492172, longitude=22.3419809824292, timestamp=1578832851, type='test')\n",
      "Row(part_id='23', latitude=46.36223169253317, longitude=22.191612673330383, timestamp=1578832884, type='test')\n",
      "Row(part_id='24', latitude=44.048930453878434, longitude=23.4534659686748, timestamp=1578832887, type='test')\n",
      "Row(part_id='33', latitude=44.82522713464549, longitude=22.52191810234907, timestamp=1578832914, type='test')\n",
      "Row(part_id='38', latitude=43.05577242388116, longitude=24.274976075835006, timestamp=1578832929, type='test')\n",
      "Row(part_id='29', latitude=45.002281392959404, longitude=24.358996262589407, timestamp=1578832902, type='test')\n",
      "Row(part_id='37', latitude=44.78604233271633, longitude=23.433051030179183, timestamp=1578832926, type='test')\n",
      "Row(part_id='11', latitude=46.52989515718016, longitude=22.495908537653523, timestamp=1578832848, type='test')\n",
      "Row(part_id='1', latitude=46.515704, longitude=24.395216, timestamp=1578682276, type='test')\n",
      "Row(part_id='41', latitude=46.260560992764866, longitude=22.00404595276415, timestamp=1578832938, type='test')\n",
      "Row(part_id='27', latitude=44.37108015550874, longitude=23.688260631366624, timestamp=1578832896, type='test')\n",
      "Polling for new rows with timestamp > 1578833388\n",
      "Polling for new rows with timestamp > 1578833393\n",
      "Polling for new rows with timestamp > 1578833397\n",
      "Polling for new rows with timestamp > 1578833401\n",
      "Polling for new rows with timestamp > 1578833405\n",
      "Polling for new rows with timestamp > 1578833409\n"
     ]
    },
    {
     "ename": "KeyboardInterrupt",
     "evalue": "",
     "output_type": "error",
     "traceback": [
      "\u001b[1;31m---------------------------------------------------------------------------\u001b[0m",
      "\u001b[1;31mKeyboardInterrupt\u001b[0m                         Traceback (most recent call last)",
      "\u001b[1;32m<ipython-input-2-61808a096fab>\u001b[0m in \u001b[0;36m<module>\u001b[1;34m\u001b[0m\n\u001b[0;32m     28\u001b[0m \u001b[1;33m\u001b[0m\u001b[0m\n\u001b[0;32m     29\u001b[0m     \u001b[1;31m# wait before polling again\u001b[0m\u001b[1;33m\u001b[0m\u001b[1;33m\u001b[0m\u001b[1;33m\u001b[0m\u001b[0m\n\u001b[1;32m---> 30\u001b[1;33m     \u001b[0mtime\u001b[0m\u001b[1;33m.\u001b[0m\u001b[0msleep\u001b[0m\u001b[1;33m(\u001b[0m\u001b[1;36m4\u001b[0m\u001b[1;33m)\u001b[0m\u001b[1;33m\u001b[0m\u001b[1;33m\u001b[0m\u001b[0m\n\u001b[0m",
      "\u001b[1;31mKeyboardInterrupt\u001b[0m: "
     ]
    }
   ],
   "source": [
    "cluster = Cluster(['localhost'],port=9042)\n",
    "session = cluster.connect('team7',wait_for_all_pools=True)\n",
    "session.execute('USE team7')\n",
    "\n",
    "timestamp = None\n",
    "while True:\n",
    "    if timestamp is None:\n",
    "        print('Loading rows')\n",
    "        rows = session.execute('SELECT * FROM vis_demo')\n",
    "    else:\n",
    "        print('Polling for new rows with timestamp > ' + str(timestamp))\n",
    "        rows = session.execute('SELECT * FROM vis_demo WHERE timestamp > ' + str(timestamp))\n",
    "    timestamp = int(time.time()) # timestamp of the last update\n",
    "\n",
    "    lat = []\n",
    "    lon = []\n",
    "    labels = []\n",
    "    for row in rows:\n",
    "        print(row)\n",
    "        lat.append(row.latitude)\n",
    "        lon.append(row.longitude)\n",
    "        labels.append(row.type)\n",
    "\n",
    "    # Add data picked up from cassandra\n",
    "    for i in range(0,len(labels)):\n",
    "        marker = Marker(location=(lat[i], lon[i]), title=labels[i])\n",
    "        m.add_layer(marker);\n",
    "\n",
    "    # wait before polling again\n",
    "    time.sleep(4)\n"
   ]
  },
  {
   "cell_type": "code",
   "execution_count": null,
   "metadata": {},
   "outputs": [],
   "source": []
  },
  {
   "cell_type": "code",
   "execution_count": null,
   "metadata": {},
   "outputs": [],
   "source": []
  }
 ],
 "metadata": {
  "kernelspec": {
   "display_name": "Python 3",
   "language": "python",
   "name": "python3"
  },
  "language_info": {
   "codemirror_mode": {
    "name": "ipython",
    "version": 3
   },
   "file_extension": ".py",
   "mimetype": "text/x-python",
   "name": "python",
   "nbconvert_exporter": "python",
   "pygments_lexer": "ipython3",
   "version": "3.6.8"
  }
 },
 "nbformat": 4,
 "nbformat_minor": 4
}
